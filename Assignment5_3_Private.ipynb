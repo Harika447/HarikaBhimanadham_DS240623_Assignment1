{
 "cells": [
  {
   "cell_type": "code",
   "execution_count": 9,
   "id": "0970cdf8",
   "metadata": {},
   "outputs": [
    {
     "name": "stdout",
     "output_type": "stream",
     "text": [
      "Harika\n",
      "Hari\n",
      "17NN1A05C9\n",
      "124\n"
     ]
    }
   ],
   "source": [
    "class Student:\n",
    "    __name=\"Hari\"\n",
    "    __rollNumber=\"124\"\n",
    "    def setName(self):\n",
    "        __name=\"Harika\"\n",
    "        print(__name)\n",
    "    def getName(self):\n",
    "        print(Student.__name)\n",
    "    def setRollNumber(self):\n",
    "        __rollNumber=\"17NN1A05C9\"\n",
    "        print(__rollNumber)\n",
    "    def getRollNumber(self):\n",
    "        print(Student.__rollNumber)\n",
    "st=Student()\n",
    "st.setName()\n",
    "st.getName()\n",
    "st.setRollNumber()\n",
    "st.getRollNumber()"
   ]
  },
  {
   "cell_type": "code",
   "execution_count": null,
   "id": "3d5d10a8",
   "metadata": {},
   "outputs": [],
   "source": []
  }
 ],
 "metadata": {
  "kernelspec": {
   "display_name": "Python 3 (ipykernel)",
   "language": "python",
   "name": "python3"
  },
  "language_info": {
   "codemirror_mode": {
    "name": "ipython",
    "version": 3
   },
   "file_extension": ".py",
   "mimetype": "text/x-python",
   "name": "python",
   "nbconvert_exporter": "python",
   "pygments_lexer": "ipython3",
   "version": "3.11.4"
  }
 },
 "nbformat": 4,
 "nbformat_minor": 5
}
