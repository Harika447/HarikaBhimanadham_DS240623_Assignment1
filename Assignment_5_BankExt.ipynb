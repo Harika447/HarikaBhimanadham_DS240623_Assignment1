{
 "cells": [
  {
   "cell_type": "code",
   "execution_count": 4,
   "id": "dd03bc1e",
   "metadata": {},
   "outputs": [
    {
     "name": "stdout",
     "output_type": "stream",
     "text": [
      "2500\n",
      "2000\n",
      "100.0\n"
     ]
    }
   ],
   "source": [
    "class Account:\n",
    "\n",
    "    def __init__(self):\n",
    "        self.balance=2000\n",
    "    def deposit(self,d):\n",
    "        self.balance+=d\n",
    "        print(self.balance)\n",
    "    def withDraw(self,wd):\n",
    "        if self.balance>wd:\n",
    "            self.balance-=wd\n",
    "            print(self.balance)\n",
    "        \n",
    "class SavingsAccount(Account):\n",
    "\n",
    "    def __init__(self):\n",
    "        super().__init__()\n",
    "    def interestRate(self,i):\n",
    "        self.i=i\n",
    "        self.interest=self.i*self.balance/100\n",
    "        print(self.interest)\n",
    "        \n",
    "\n",
    "a=Account()\n",
    "a.deposit(500)\n",
    "a.withDraw(500)\n",
    "s=SavingsAccount()\n",
    "s.interestRate(5)\n",
    "\n"
   ]
  },
  {
   "cell_type": "code",
   "execution_count": null,
   "id": "493d355b",
   "metadata": {},
   "outputs": [],
   "source": []
  }
 ],
 "metadata": {
  "kernelspec": {
   "display_name": "Python 3 (ipykernel)",
   "language": "python",
   "name": "python3"
  },
  "language_info": {
   "codemirror_mode": {
    "name": "ipython",
    "version": 3
   },
   "file_extension": ".py",
   "mimetype": "text/x-python",
   "name": "python",
   "nbconvert_exporter": "python",
   "pygments_lexer": "ipython3",
   "version": "3.11.4"
  }
 },
 "nbformat": 4,
 "nbformat_minor": 5
}
