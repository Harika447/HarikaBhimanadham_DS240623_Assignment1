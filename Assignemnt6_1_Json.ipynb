{
 "cells": [
  {
   "cell_type": "code",
   "execution_count": 1,
   "id": "d2f43ee6",
   "metadata": {},
   "outputs": [],
   "source": [
    "#Creting a dictionary of indian states and writing into Json file\n",
    "\n",
    "Indian_states={\"Andhra\":\"Amaravathi\",\n",
    "                \"Telangana\":\"Hyderabad\",\n",
    "              \"Tamilandu\":\"Chennai\",\n",
    "              \"Karnataka\":\"Banglore\",\n",
    "              \"Maharastra\":\"Mumbai\",\n",
    "              \"Kerela\":\"Thiruvananthapuram\",\n",
    "              \"Goa\":\"Panaji\"}"
   ]
  },
  {
   "cell_type": "code",
   "execution_count": 2,
   "id": "7e993ea1",
   "metadata": {},
   "outputs": [
    {
     "data": {
      "text/plain": [
       "{'Andhra': 'Amaravathi',\n",
       " 'Telangana': 'Hyderabad',\n",
       " 'Tamilandu': 'Chennai',\n",
       " 'Karnataka': 'Banglore',\n",
       " 'Maharastra': 'Mumbai',\n",
       " 'Kerela': 'Thiruvananthapuram',\n",
       " 'Goa': 'Panaji'}"
      ]
     },
     "execution_count": 2,
     "metadata": {},
     "output_type": "execute_result"
    }
   ],
   "source": [
    "Indian_states"
   ]
  },
  {
   "cell_type": "code",
   "execution_count": 3,
   "id": "ec5aae3f",
   "metadata": {},
   "outputs": [],
   "source": [
    "import json\n",
    "with open(\"states.json\",'w') as file_handler:\n",
    "    file_handler.write(json.dumps(Indian_states))"
   ]
  },
  {
   "cell_type": "code",
   "execution_count": 5,
   "id": "b51e4208",
   "metadata": {},
   "outputs": [
    {
     "data": {
      "text/plain": [
       "'{\"Andhra\": \"Amaravathi\", \"Telangana\": \"Hyderabad\", \"Tamilandu\": \"Chennai\", \"Karnataka\": \"Banglore\", \"Maharastra\": \"Mumbai\", \"Kerela\": \"Thiruvananthapuram\", \"Goa\": \"Panaji\"}'"
      ]
     },
     "execution_count": 5,
     "metadata": {},
     "output_type": "execute_result"
    }
   ],
   "source": [
    "json.dumps(Indian_states)"
   ]
  },
  {
   "cell_type": "code",
   "execution_count": 6,
   "id": "833ae6b9",
   "metadata": {},
   "outputs": [],
   "source": [
    "Emp={\"employee\":[\n",
    "    {\n",
    "        \"Name\":\"Harika\",\n",
    "        \"DOB\":\"15-03-2000\",\n",
    "        \"Height\":\"5.3\",\n",
    "        \"City\":\"Ongole\",\n",
    "        \"State\":\"AP\"\n",
    "    },\n",
    "    {\n",
    "        \"Name\":\"Akash\",\n",
    "        \"DOB\":\"15-08-2002\",\n",
    "        \"Height\":\"5.11\",\n",
    "        \"City\":\"Ongole\",\n",
    "        \"State\":\"AP\"\n",
    "    },\n",
    "    {\n",
    "        \"Name\":\"pavani\",\n",
    "        \"DOB\":\"17-03-2001\",\n",
    "        \"Height\":\"5.3\",\n",
    "        \"City\":\"Ongole\",\n",
    "        \"State\":\"AP\"\n",
    "    },\n",
    "    {\n",
    "        \"Name\":\"Swapna\",\n",
    "        \"DOB\":\"15-08-1999\",\n",
    "        \"Height\":\"5.3\",\n",
    "        \"City\":\"Ongole\",\n",
    "        \"State\":\"AP\"\n",
    "    },\n",
    "    {\n",
    "        \"Name\":\"Narasimha\",\n",
    "        \"DOB\":\"15-08-2000\",\n",
    "        \"Height\":\"5.11\",\n",
    "        \"City\":\"Ongole\",\n",
    "        \"State\":\"AP\"\n",
    "    }\n",
    "]\n",
    "}"
   ]
  },
  {
   "cell_type": "code",
   "execution_count": 7,
   "id": "748fbc00",
   "metadata": {},
   "outputs": [],
   "source": [
    "import json\n",
    "with open(\"Emp.json\",'w') as file_handler:\n",
    "    file_handler.write(json.dumps(Emp))"
   ]
  },
  {
   "cell_type": "code",
   "execution_count": 8,
   "id": "2aee20e9",
   "metadata": {},
   "outputs": [
    {
     "data": {
      "text/plain": [
       "'{\"employee\": [{\"Name\": \"Harika\", \"DOB\": \"15-03-2000\", \"Height\": \"5.3\", \"City\": \"Ongole\", \"State\": \"AP\"}, {\"Name\": \"Akash\", \"DOB\": \"15-08-2002\", \"Height\": \"5.11\", \"City\": \"Ongole\", \"State\": \"AP\"}, {\"Name\": \"pavani\", \"DOB\": \"17-03-2001\", \"Height\": \"5.3\", \"City\": \"Ongole\", \"State\": \"AP\"}, {\"Name\": \"Swapna\", \"DOB\": \"15-08-1999\", \"Height\": \"5.3\", \"City\": \"Ongole\", \"State\": \"AP\"}, {\"Name\": \"Narasimha\", \"DOB\": \"15-08-2000\", \"Height\": \"5.11\", \"City\": \"Ongole\", \"State\": \"AP\"}]}'"
      ]
     },
     "execution_count": 8,
     "metadata": {},
     "output_type": "execute_result"
    }
   ],
   "source": [
    "json.dumps(Emp)"
   ]
  },
  {
   "cell_type": "code",
   "execution_count": 13,
   "id": "30ce237c",
   "metadata": {},
   "outputs": [
    {
     "name": "stdout",
     "output_type": "stream",
     "text": [
      "{'Name': 'Harika', 'DOB': '15-03-2000', 'Height': '5.3', 'City': 'Ongole', 'State': 'AP'}\n",
      "{'Name': 'Akash', 'DOB': '15-08-2002', 'Height': '5.11', 'City': 'Ongole', 'State': 'AP'}\n",
      "{'Name': 'pavani', 'DOB': '17-03-2001', 'Height': '5.3', 'City': 'Ongole', 'State': 'AP'}\n",
      "{'Name': 'Swapna', 'DOB': '15-08-1999', 'Height': '5.3', 'City': 'Ongole', 'State': 'AP'}\n",
      "{'Name': 'Narasimha', 'DOB': '15-08-2000', 'Height': '5.11', 'City': 'Ongole', 'State': 'AP'}\n"
     ]
    }
   ],
   "source": [
    "f=open('Emp.json',)\n",
    "data=json.load(f)\n",
    "for i in Emp.values():\n",
    "    #print(i)\n",
    "    for j in i:\n",
    "        print(j)\n",
    "f.close()"
   ]
  },
  {
   "cell_type": "code",
   "execution_count": null,
   "id": "ce775276",
   "metadata": {},
   "outputs": [],
   "source": []
  }
 ],
 "metadata": {
  "kernelspec": {
   "display_name": "Python 3 (ipykernel)",
   "language": "python",
   "name": "python3"
  },
  "language_info": {
   "codemirror_mode": {
    "name": "ipython",
    "version": 3
   },
   "file_extension": ".py",
   "mimetype": "text/x-python",
   "name": "python",
   "nbconvert_exporter": "python",
   "pygments_lexer": "ipython3",
   "version": "3.11.4"
  }
 },
 "nbformat": 4,
 "nbformat_minor": 5
}
