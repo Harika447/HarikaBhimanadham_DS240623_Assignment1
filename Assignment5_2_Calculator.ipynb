{
 "cells": [
  {
   "cell_type": "code",
   "execution_count": 1,
   "id": "1fb14beb",
   "metadata": {},
   "outputs": [
    {
     "name": "stdout",
     "output_type": "stream",
     "text": [
      "104\n",
      "84\n",
      "940\n",
      "9.4\n"
     ]
    }
   ],
   "source": [
    "class Calculator:\n",
    "    \n",
    "    def __init__(self,x,y):\n",
    "        self.x=x\n",
    "        self.y=y\n",
    "    def add(self):\n",
    "        print(self.x+self.y)\n",
    "    def subtract(self):\n",
    "        if self.x>self.y:\n",
    "            print(self.x-self.y)\n",
    "        else:\n",
    "            print(self.y-self.x)\n",
    "    def multiply(self):\n",
    "        print(self.x*self.y)\n",
    "    def divide(self):\n",
    "        if self.x>self.y:\n",
    "            print(self.x/self.y)\n",
    "        else:\n",
    "            print(self.y/self.x)\n",
    "\n",
    "obj = Calculator(10, 94)\n",
    "obj.add()\n",
    "obj.subtract()\n",
    "obj.multiply()\n",
    "obj.divide()"
   ]
  },
  {
   "cell_type": "code",
   "execution_count": null,
   "id": "c518f158",
   "metadata": {},
   "outputs": [],
   "source": []
  }
 ],
 "metadata": {
  "kernelspec": {
   "display_name": "Python 3 (ipykernel)",
   "language": "python",
   "name": "python3"
  },
  "language_info": {
   "codemirror_mode": {
    "name": "ipython",
    "version": 3
   },
   "file_extension": ".py",
   "mimetype": "text/x-python",
   "name": "python",
   "nbconvert_exporter": "python",
   "pygments_lexer": "ipython3",
   "version": "3.11.4"
  }
 },
 "nbformat": 4,
 "nbformat_minor": 5
}
