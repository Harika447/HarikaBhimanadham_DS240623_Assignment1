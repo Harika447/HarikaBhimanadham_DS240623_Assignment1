{
 "cells": [
  {
   "cell_type": "code",
   "execution_count": 1,
   "id": "a890b01d",
   "metadata": {},
   "outputs": [
    {
     "name": "stdout",
     "output_type": "stream",
     "text": [
      "Ashish 5000 5\n"
     ]
    }
   ],
   "source": [
    "class Account:\n",
    "\n",
    "    def __init__(self,title,balance):\n",
    "        self.title=title\n",
    "        self.balance=balance\n",
    "\n",
    "class SavingsAccount(Account):\n",
    "\n",
    "    def __init__(self,title,balance,interestRate):\n",
    "        self.interestRate=interestRate\n",
    "        super().__init__(title,balance)\n",
    "    def details(self):\n",
    "        print(self.title,self.balance,self.interestRate)\n",
    "sv=SavingsAccount(\"Ashish\",5000,5)\n",
    "sv.details()\n",
    "        "
   ]
  },
  {
   "cell_type": "code",
   "execution_count": null,
   "id": "f3014054",
   "metadata": {},
   "outputs": [],
   "source": []
  }
 ],
 "metadata": {
  "kernelspec": {
   "display_name": "Python 3 (ipykernel)",
   "language": "python",
   "name": "python3"
  },
  "language_info": {
   "codemirror_mode": {
    "name": "ipython",
    "version": 3
   },
   "file_extension": ".py",
   "mimetype": "text/x-python",
   "name": "python",
   "nbconvert_exporter": "python",
   "pygments_lexer": "ipython3",
   "version": "3.11.4"
  }
 },
 "nbformat": 4,
 "nbformat_minor": 5
}
