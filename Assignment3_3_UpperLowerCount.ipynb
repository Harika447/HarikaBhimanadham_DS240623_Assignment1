{
 "cells": [
  {
   "cell_type": "code",
   "execution_count": 5,
   "id": "a289dd7b",
   "metadata": {},
   "outputs": [
    {
     "name": "stdout",
     "output_type": "stream",
     "text": [
      "The quick Brow Fox\n",
      "No. of Upper case characters : 3\n",
      "No. of Lower case Characters : 12\n"
     ]
    }
   ],
   "source": [
    "def UpLow(st):\n",
    "    u,l=0,0\n",
    "    for i in st:\n",
    "        if i.isupper():\n",
    "            u+=1\n",
    "        elif i.islower():\n",
    "            l+=1\n",
    "            \n",
    "    print(\"No. of Upper case characters : \"+ str(u))\n",
    "    print(\"No. of Lower case Characters : \"+ str(l))\n",
    "s=input()\n",
    "UpLow(s)"
   ]
  },
  {
   "cell_type": "code",
   "execution_count": null,
   "id": "79297928",
   "metadata": {},
   "outputs": [],
   "source": []
  }
 ],
 "metadata": {
  "kernelspec": {
   "display_name": "Python 3 (ipykernel)",
   "language": "python",
   "name": "python3"
  },
  "language_info": {
   "codemirror_mode": {
    "name": "ipython",
    "version": 3
   },
   "file_extension": ".py",
   "mimetype": "text/x-python",
   "name": "python",
   "nbconvert_exporter": "python",
   "pygments_lexer": "ipython3",
   "version": "3.11.3"
  }
 },
 "nbformat": 4,
 "nbformat_minor": 5
}
