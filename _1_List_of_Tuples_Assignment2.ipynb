{
 "cells": [
  {
   "cell_type": "code",
   "execution_count": 9,
   "id": "1fbdf78a",
   "metadata": {},
   "outputs": [
    {
     "name": "stdout",
     "output_type": "stream",
     "text": [
      "[(2, 1), (1, 2), (2, 3), (4, 4), (2, 5)]\n"
     ]
    }
   ],
   "source": [
    "def last(n):\n",
    "    return n[-1] \n",
    "  \n",
    "def sort(tuples):\n",
    "    return sorted(tuples, key=last)\n",
    "\n",
    "'''n=int(input())\n",
    "l=[]\n",
    "for i in range(n):\n",
    "    j=map(int,input())\n",
    "    j=tuple(j)\n",
    "    l.append(j)'''\n",
    "l=[(2, 5), (1, 2), (4, 4), (2, 3), (2, 1)]\n",
    "print(sort(l))"
   ]
  },
  {
   "cell_type": "code",
   "execution_count": null,
   "id": "12c28392",
   "metadata": {},
   "outputs": [],
   "source": []
  }
 ],
 "metadata": {
  "kernelspec": {
   "display_name": "Python 3 (ipykernel)",
   "language": "python",
   "name": "python3"
  },
  "language_info": {
   "codemirror_mode": {
    "name": "ipython",
    "version": 3
   },
   "file_extension": ".py",
   "mimetype": "text/x-python",
   "name": "python",
   "nbconvert_exporter": "python",
   "pygments_lexer": "ipython3",
   "version": "3.10.9"
  }
 },
 "nbformat": 4,
 "nbformat_minor": 5
}
