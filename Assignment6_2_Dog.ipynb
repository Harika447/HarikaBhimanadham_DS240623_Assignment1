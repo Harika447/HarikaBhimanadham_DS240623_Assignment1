{
 "cells": [
  {
   "cell_type": "code",
   "execution_count": 21,
   "id": "71b4afaa",
   "metadata": {},
   "outputs": [
    {
     "name": "stdout",
     "output_type": "stream",
     "text": [
      "name of dog is: puppy age of dog is: 1\n",
      "Brand of dog is: German Shepard\n",
      "Age and gender of dog is: 2 F\n",
      "Skin tone of dog is: white\n",
      "tone of dog is: Bow Bow\n"
     ]
    }
   ],
   "source": [
    "class Dog:\n",
    "    def __init__(self,name,age,color):\n",
    "        self.name=name\n",
    "        self.age=age\n",
    "        self.color=color\n",
    "    def description(self):\n",
    "        print(\"name of dog is:\",self.name,end=\" \")\n",
    "        print(\"age of dog is:\",self.age)\n",
    "    def get_info():\n",
    "        print(\"Coat color is:\",self.color)\n",
    "class JackRussellTerrier(Dog):\n",
    "    def __init__(self,name,age,color,br,g):\n",
    "        super().__init__(name,age,color)\n",
    "        self.br=br\n",
    "        self.g=g\n",
    "    def brand(self):\n",
    "        print(\"Brand of dog is:\",self.br)\n",
    "    def gender(self):\n",
    "        print(\"Age and gender of dog is:\",self.age,self.g)\n",
    "        \n",
    "class Bulldog(Dog):\n",
    "    def __init__(self,name,age,color,skin,tn):\n",
    "        super().__init__(name,age,color)\n",
    "        self.skin=skin\n",
    "        self.tn=tn\n",
    "    def skintone(self):\n",
    "        print(\"Skin tone of dog is:\",self.skin)\n",
    "    def tone(self):\n",
    "        print(\"tone of dog is:\",self.tn)\n",
    "\n",
    "d= Dog(\"puppy\",1,\"pink\")\n",
    "d.description()\n",
    "j=JackRussellTerrier(\"cub\",2,\"grey\",\"German Shepard\",\"F\")\n",
    "j.brand()\n",
    "j.gender()\n",
    "b=Bulldog(\"Bull\",3,\"blue\",\"white\",\"Bow Bow\")\n",
    "b.skintone()\n",
    "b.tone()\n"
   ]
  },
  {
   "cell_type": "code",
   "execution_count": null,
   "id": "75412b42",
   "metadata": {},
   "outputs": [],
   "source": []
  }
 ],
 "metadata": {
  "kernelspec": {
   "display_name": "Python 3 (ipykernel)",
   "language": "python",
   "name": "python3"
  },
  "language_info": {
   "codemirror_mode": {
    "name": "ipython",
    "version": 3
   },
   "file_extension": ".py",
   "mimetype": "text/x-python",
   "name": "python",
   "nbconvert_exporter": "python",
   "pygments_lexer": "ipython3",
   "version": "3.11.4"
  }
 },
 "nbformat": 4,
 "nbformat_minor": 5
}
