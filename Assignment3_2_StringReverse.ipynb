{
 "cells": [
  {
   "cell_type": "code",
   "execution_count": 2,
   "id": "22a444b7",
   "metadata": {},
   "outputs": [
    {
     "name": "stdout",
     "output_type": "stream",
     "text": [
      "1234abcd\n",
      "dcba4321\n"
     ]
    }
   ],
   "source": [
    "def reverse(str):\n",
    "    #return str[::-1]\n",
    "    s=\"\".join(reversed(str))\n",
    "    return s\n",
    "a=input()\n",
    "print(reverse(a))"
   ]
  },
  {
   "cell_type": "code",
   "execution_count": null,
   "id": "c61e43b9",
   "metadata": {},
   "outputs": [],
   "source": []
  }
 ],
 "metadata": {
  "kernelspec": {
   "display_name": "Python 3 (ipykernel)",
   "language": "python",
   "name": "python3"
  },
  "language_info": {
   "codemirror_mode": {
    "name": "ipython",
    "version": 3
   },
   "file_extension": ".py",
   "mimetype": "text/x-python",
   "name": "python",
   "nbconvert_exporter": "python",
   "pygments_lexer": "ipython3",
   "version": "3.11.3"
  }
 },
 "nbformat": 4,
 "nbformat_minor": 5
}
