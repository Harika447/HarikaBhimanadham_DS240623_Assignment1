{
 "cells": [
  {
   "cell_type": "code",
   "execution_count": 1,
   "id": "432bf40c",
   "metadata": {},
   "outputs": [
    {
     "name": "stdout",
     "output_type": "stream",
     "text": [
      "1,2,3,4\n",
      "Number of Even numbers:2\n",
      "Number of Odd numbers:2\n"
     ]
    }
   ],
   "source": [
    "L=list(map(int,input().split(\",\")))\n",
    "E,O=0,0\n",
    "for i in L:\n",
    "    if i%2==0:\n",
    "        E=E+1\n",
    "    else:\n",
    "        O=O+1\n",
    "print(\"Number of Even numbers:\"+str(E))\n",
    "print(\"Number of Odd numbers:\"+str(O))"
   ]
  },
  {
   "cell_type": "code",
   "execution_count": null,
   "id": "0e1ac6ce",
   "metadata": {},
   "outputs": [],
   "source": []
  }
 ],
 "metadata": {
  "kernelspec": {
   "display_name": "Python 3 (ipykernel)",
   "language": "python",
   "name": "python3"
  },
  "language_info": {
   "codemirror_mode": {
    "name": "ipython",
    "version": 3
   },
   "file_extension": ".py",
   "mimetype": "text/x-python",
   "name": "python",
   "nbconvert_exporter": "python",
   "pygments_lexer": "ipython3",
   "version": "3.10.9"
  }
 },
 "nbformat": 4,
 "nbformat_minor": 5
}
